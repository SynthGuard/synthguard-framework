{
 "cells": [
  {
   "cell_type": "markdown",
   "id": "307cc327",
   "metadata": {},
   "source": [
    "## Data Synthesis Pipeline"
   ]
  },
  {
   "cell_type": "markdown",
   "id": "44e1b1ff",
   "metadata": {},
   "source": [
    "### Install Kubeflow Pipelines module"
   ]
  },
  {
   "cell_type": "code",
   "execution_count": null,
   "id": "4c19a2fc",
   "metadata": {},
   "outputs": [],
   "source": [
    "#Colab\n",
    "#!pip install kfp==1.8.22\n",
    "#VSCode\n",
    "#%pip install kfp==1.8.22"
   ]
  },
  {
   "cell_type": "code",
   "execution_count": null,
   "id": "89e71a9f",
   "metadata": {},
   "outputs": [],
   "source": [
    "from kfp import dsl\n",
    "from kfp.compiler import Compiler\n",
    "from kfp import components as comp\n",
    "from typing import NamedTuple"
   ]
  },
  {
   "cell_type": "markdown",
   "id": "0ef5667a",
   "metadata": {},
   "source": [
    "## InputHandler Class"
   ]
  },
  {
   "cell_type": "markdown",
   "id": "8deca517",
   "metadata": {},
   "source": [
    "### Input data from URL"
   ]
  },
  {
   "cell_type": "code",
   "execution_count": null,
   "id": "ebd3c5b6",
   "metadata": {},
   "outputs": [],
   "source": [
    "from synthguard.input_handler import InputHandler\n",
    "inputHandler = InputHandler()\n",
    "input_data = inputHandler.load_data_from_url(\"https://opendata.smit.ee/ppa/csv/valjakutsed.csv\")\n"
   ]
  },
  {
   "cell_type": "markdown",
   "id": "9ed9f1b1",
   "metadata": {},
   "source": [
    "Kubeflow Pipelines Component - Adjust function parameters accordingly"
   ]
  },
  {
   "cell_type": "code",
   "execution_count": null,
   "id": "2537888d",
   "metadata": {},
   "outputs": [],
   "source": [
    "\n",
    "def input_component(input_csv: comp.InputPath('csv'), output_csv: comp.OutputPath('csv')):\n",
    "    import synthguard.helper_functions as sd\n",
    "    #Component logic\n",
    "    from synthguard.input_handler import InputHandler\n",
    "    inputHandler = InputHandler()\n",
    "    input_data = inputHandler.load_data_from_url(\"https://opendata.smit.ee/ppa/csv/valjakutsed.csv\")\n",
    "    # Compiling function into a KFP component\n",
    "input_component = comp.create_component_from_func(func=input_component, base_image=synthguard/synthguard:latest)\n"
   ]
  },
  {
   "cell_type": "markdown",
   "id": "fddd2d74",
   "metadata": {},
   "source": [
    "## DataPreprocessor Class"
   ]
  },
  {
   "cell_type": "code",
   "execution_count": null,
   "id": "8dadef57",
   "metadata": {},
   "outputs": [],
   "source": [
    "from synthguard.data_preprocessor import DataPreprocessor\n",
    "input_data = sd.load_data_csv(input_csv)\n",
    "dataPreprocessor = DataPreprocessor(data=input_data)\n",
    "metadata = dataPreprocessor.extract_metadata()\n",
    "processed_data = dataPreprocessor.data\n"
   ]
  },
  {
   "cell_type": "markdown",
   "id": "a779a4f1",
   "metadata": {},
   "source": [
    "Kubeflow Pipelines Component - Adjust function parameters accordingly"
   ]
  },
  {
   "cell_type": "code",
   "execution_count": null,
   "id": "fea42334",
   "metadata": {},
   "outputs": [],
   "source": [
    "\n",
    "def preprocess_component(input_csv: comp.InputPath('csv'), output_csv: comp.OutputPath('csv')):\n",
    "    import synthguard.helper_functions as sd\n",
    "    #Component logic\n",
    "    from synthguard.data_preprocessor import DataPreprocessor\n",
    "    input_data = sd.load_data_csv(input_csv)\n",
    "    dataPreprocessor = DataPreprocessor(data=input_data)\n",
    "    metadata = dataPreprocessor.extract_metadata()\n",
    "    processed_data = dataPreprocessor.data\n",
    "    # Compiling function into a KFP component\n",
    "preprocess_component = comp.create_component_from_func(func=preprocess_component, base_image=synthguard/synthguard:latest)\n"
   ]
  },
  {
   "cell_type": "markdown",
   "id": "b73e5f7f",
   "metadata": {},
   "source": [
    "## SyntheticDataGenerator Class"
   ]
  },
  {
   "cell_type": "code",
   "execution_count": null,
   "id": "28488ce3",
   "metadata": {},
   "outputs": [],
   "source": [
    "from synthguard.synthetic_data_generator import SyntheticDataGenerator\n",
    "syntheticDataGenerator = SyntheticDataGenerator(output_csv=None, n_rows=1000, method=\"realistic\")\n",
    "generated_data = syntheticDataGenerator.generate_synthetic_data(metadata=metadata, processed_data=processed_data)\n"
   ]
  },
  {
   "cell_type": "markdown",
   "id": "17735f00",
   "metadata": {},
   "source": [
    "Kubeflow Pipelines Component - Adjust function parameters accordingly"
   ]
  },
  {
   "cell_type": "code",
   "execution_count": null,
   "id": "329028e1",
   "metadata": {},
   "outputs": [],
   "source": [
    "\n",
    "def generation_component(input_csv: comp.InputPath('csv'), output_csv: comp.OutputPath('csv')):\n",
    "    import synthguard.helper_functions as sd\n",
    "    #Component logic\n",
    "    from synthguard.synthetic_data_generator import SyntheticDataGenerator\n",
    "    syntheticDataGenerator = SyntheticDataGenerator(output_csv=None, n_rows=1000, method=\"realistic\")\n",
    "    generated_data = syntheticDataGenerator.generate_synthetic_data(metadata=metadata, processed_data=processed_data)\n",
    "    # Compiling function into a KFP component\n",
    "generation_component = comp.create_component_from_func(func=generation_component, base_image=synthguard/synthguard:latest)\n"
   ]
  },
  {
   "cell_type": "markdown",
   "id": "ad154173",
   "metadata": {},
   "source": [
    "## Privacy Report Class"
   ]
  },
  {
   "cell_type": "code",
   "execution_count": null,
   "id": "8d03082c",
   "metadata": {},
   "outputs": [],
   "source": [
    "from synthguard.privacy_report_generator import PrivacyRiskEvaluator\n",
    "synthetic_data = sd.load_data_csv(input_synth_csv)\n",
    "real_data = sd.load_data_csv(input_real_csv)\n",
    "metadata = sd.load_metadata(input_json)\n",
    "privacyRiskEvaluator = PrivacyRiskEvaluator(real_data = real_data, synthetic_data = synthetic_data, metadata = metadata, method=\"realistic\")\n",
    "privacyRiskEvaluator.evaluate_privacy()\n",
    "privacyRiskEvaluator.visualize_privacy_report()\n"
   ]
  },
  {
   "cell_type": "markdown",
   "id": "c65d17dd",
   "metadata": {},
   "source": [
    "Kubeflow Pipelines Visual Component - Adjust function parameters accordingly"
   ]
  },
  {
   "cell_type": "code",
   "execution_count": null,
   "id": "e7d72a66",
   "metadata": {},
   "outputs": [],
   "source": [
    "\n",
    "def privacy_report_component(input_synth_csv: comp.InputPath('csv'), input_real_csv: comp.InputPath('csv'), input_json:comp.InputPath('json'), output_html: comp.OutputPath('html')) -> NamedTuple('VisualizationOutput', [('mlpipeline_ui_metadata', 'UI_metadata')]):\n",
    "    import synthguard.helper_functions as sd\n",
    "    import json\n",
    "\n",
    "    with open(output_html, \"w\") as f:\n",
    "        f.write(\"<html><body>\")  # Start the HTML document\n",
    "\n",
    "    #Component logic\n",
    "    from synthguard.privacy_report_generator import PrivacyRiskEvaluator\n",
    "    synthetic_data = sd.load_data_csv(input_synth_csv)\n",
    "    real_data = sd.load_data_csv(input_real_csv)\n",
    "    metadata = sd.load_metadata(input_json)\n",
    "    privacyRiskEvaluator = PrivacyRiskEvaluator(real_data = real_data, synthetic_data = synthetic_data, metadata = metadata, method=\"realistic\")\n",
    "    privacyRiskEvaluator.evaluate_privacy()\n",
    "    privacyRiskEvaluator.visualize_privacy_report()\n",
    "\n",
    "    #Write visualization elements into output_html file\n",
    "\n",
    "    # Read the HTML content for UI metadata\n",
    "    with open(output_html, 'r') as file:\n",
    "        html_content = file.read()\n",
    "    metadata = {\n",
    "        'outputs': [{'type': 'web-app', 'storage': 'inline', 'source': html_content}]\n",
    "    }\n",
    "\n",
    "    from collections import namedtuple\n",
    "    visualization_output = namedtuple('VisualizationOutput', ['mlpipeline_ui_metadata'])\n",
    "    return visualization_output(json.dumps(metadata))\n",
    "\n",
    "    # Compiling function into a KFP component\n",
    "privacy_report_component = comp.create_component_from_func(func=privacy_report_component, base_image=synthguard/synthguard:latest)\n"
   ]
  },
  {
   "cell_type": "markdown",
   "id": "a2c8bcd3",
   "metadata": {},
   "source": [
    "## Utility Report Class"
   ]
  },
  {
   "cell_type": "code",
   "execution_count": null,
   "id": "e8d6d458",
   "metadata": {},
   "outputs": [],
   "source": [
    "from synthguard.utility_report_generator import UtilityEvaluator\n",
    "synthetic_data = sd.load_data_csv(input_synth_csv)\n",
    "real_data = sd.load_data_csv(input_real_csv)\n",
    "metadata = sd.load_metadata(input_json)\n",
    "utilityEvaluator = utilityEvaluator(real_data = real_data, synthetic_data = synthetic_data, metadata = metadata, method=\"realistic\")\n",
    "utilityEvaluator.evaluate_utility()\n",
    "utilityEvaluator.visualize_utility_report()\n"
   ]
  },
  {
   "cell_type": "markdown",
   "id": "604b0a70",
   "metadata": {},
   "source": [
    "Kubeflow Pipelines Visual Component - Adjust function parameters accordingly"
   ]
  },
  {
   "cell_type": "code",
   "execution_count": null,
   "id": "7e8b1116",
   "metadata": {},
   "outputs": [],
   "source": [
    "\n",
    "def utility_report_component(input_synth_csv: comp.InputPath('csv'), input_real_csv: comp.InputPath('csv'), input_json:comp.InputPath('json'), output_html: comp.OutputPath('html')) -> NamedTuple('VisualizationOutput', [('mlpipeline_ui_metadata', 'UI_metadata')]):\n",
    "    import synthguard.helper_functions as sd\n",
    "    import json\n",
    "\n",
    "    with open(output_html, \"w\") as f:\n",
    "        f.write(\"<html><body>\")  # Start the HTML document\n",
    "\n",
    "    #Component logic\n",
    "    from synthguard.utility_report_generator import UtilityEvaluator\n",
    "    synthetic_data = sd.load_data_csv(input_synth_csv)\n",
    "    real_data = sd.load_data_csv(input_real_csv)\n",
    "    metadata = sd.load_metadata(input_json)\n",
    "    utilityEvaluator = utilityEvaluator(real_data = real_data, synthetic_data = synthetic_data, metadata = metadata, method=\"realistic\")\n",
    "    utilityEvaluator.evaluate_utility()\n",
    "    utilityEvaluator.visualize_utility_report()\n",
    "\n",
    "    #Write visualization elements into output_html file\n",
    "\n",
    "    # Read the HTML content for UI metadata\n",
    "    with open(output_html, 'r') as file:\n",
    "        html_content = file.read()\n",
    "    metadata = {\n",
    "        'outputs': [{'type': 'web-app', 'storage': 'inline', 'source': html_content}]\n",
    "    }\n",
    "\n",
    "    from collections import namedtuple\n",
    "    visualization_output = namedtuple('VisualizationOutput', ['mlpipeline_ui_metadata'])\n",
    "    return visualization_output(json.dumps(metadata))\n",
    "\n",
    "    # Compiling function into a KFP component\n",
    "utility_report_component = comp.create_component_from_func(func=utility_report_component, base_image=synthguard/synthguard:latest)\n"
   ]
  },
  {
   "cell_type": "markdown",
   "id": "f19fbcb7",
   "metadata": {},
   "source": [
    "## Diagnostic Report Class"
   ]
  },
  {
   "cell_type": "code",
   "execution_count": null,
   "id": "c49944aa",
   "metadata": {},
   "outputs": [],
   "source": [
    "from synthguard.diagnostic_report_generator import DiagnosticEvaluator\n",
    "diagnosticEvaluator = DiagnosticEvaluator(real_data=processed_data, synthetic_data=generated_data, metadata=metadata)\n",
    "diagnosticEvaluator.evaluate_diagnostic()\n",
    "diagnosticEvaluator.visualize_diagnostic_report()\n"
   ]
  },
  {
   "cell_type": "markdown",
   "id": "4923d621",
   "metadata": {},
   "source": [
    "Kubeflow Pipelines Visual Component - Adjust function parameters accordingly"
   ]
  },
  {
   "cell_type": "code",
   "execution_count": null,
   "id": "51fb1468",
   "metadata": {},
   "outputs": [],
   "source": [
    "\n",
    "def diagnostic_report_component(input_synth_csv: comp.InputPath('csv'), input_real_csv: comp.InputPath('csv'), input_json:comp.InputPath('json'), output_html: comp.OutputPath('html')) -> NamedTuple('VisualizationOutput', [('mlpipeline_ui_metadata', 'UI_metadata')]):\n",
    "    import synthguard.helper_functions as sd\n",
    "    import json\n",
    "\n",
    "    with open(output_html, \"w\") as f:\n",
    "        f.write(\"<html><body>\")  # Start the HTML document\n",
    "\n",
    "    #Component logic\n",
    "    from synthguard.diagnostic_report_generator import DiagnosticEvaluator\n",
    "    diagnosticEvaluator = DiagnosticEvaluator(real_data=processed_data, synthetic_data=generated_data, metadata=metadata)\n",
    "    diagnosticEvaluator.evaluate_diagnostic()\n",
    "    diagnosticEvaluator.visualize_diagnostic_report()\n",
    "\n",
    "    #Write visualization elements into output_html file\n",
    "\n",
    "    # Read the HTML content for UI metadata\n",
    "    with open(output_html, 'r') as file:\n",
    "        html_content = file.read()\n",
    "    metadata = {\n",
    "        'outputs': [{'type': 'web-app', 'storage': 'inline', 'source': html_content}]\n",
    "    }\n",
    "\n",
    "    from collections import namedtuple\n",
    "    visualization_output = namedtuple('VisualizationOutput', ['mlpipeline_ui_metadata'])\n",
    "    return visualization_output(json.dumps(metadata))\n",
    "\n",
    "    # Compiling function into a KFP component\n",
    "diagnostic_report_component = comp.create_component_from_func(func=diagnostic_report_component, base_image=synthguard/synthguard:latest)\n"
   ]
  },
  {
   "cell_type": "markdown",
   "id": "a507c0fc",
   "metadata": {},
   "source": [
    "## Pipeline"
   ]
  },
  {
   "cell_type": "markdown",
   "id": "df3c8c7d",
   "metadata": {},
   "source": [
    "Connect all the modules and compile the pipeline"
   ]
  },
  {
   "cell_type": "markdown",
   "id": "89ee816c",
   "metadata": {},
   "source": [
    "### Example\n",
    "```\n",
    "@dsl.pipeline(name='example_pipeline', description='example_desc')\n",
    "def pipeline():\n",
    "\tinput = input_component()\n",
    "\tpreprocess = preprocess_component(input.output)\n",
    "\tgeneration = generation_component(input.output, preprocess.output)\n",
    "\tdianostic = diagnostic_report_component(input.output, generation.output, preprocess.output)\n",
    "\tutility = utility_report_component(input.output, generation.output, preprocess.output)\n",
    "\tprivacy = privacy_report_component(input.output, generation.output, preprocess.output)\n",
    "```\n"
   ]
  },
  {
   "cell_type": "code",
   "execution_count": null,
   "id": "b2afa115",
   "metadata": {},
   "outputs": [],
   "source": [
    "@dsl.pipeline(name=\"police_call_pipeline\", description=\"Police & Border Guard (PPA) police call dataset synthetic data pipeline\")\n",
    "def pipeline():\n",
    "\t#TODO\n",
    "\tpass"
   ]
  },
  {
   "cell_type": "code",
   "execution_count": null,
   "id": "6b8c954b",
   "metadata": {},
   "outputs": [],
   "source": [
    "Compiler().compile(pipeline, \"police_call_pipeline.yaml\")"
   ]
  },
  {
   "cell_type": "markdown",
   "id": "de485da2",
   "metadata": {},
   "source": [
    "## Add ImagePullSecret. Mandatory to run for Kubeflow execution!"
   ]
  },
  {
   "cell_type": "code",
   "execution_count": null,
   "id": "28c65922",
   "metadata": {},
   "outputs": [],
   "source": [
    "\n",
    "import yaml\n",
    "with open(\"police_call_pipeline.yaml\", \"r\") as file:\n",
    "    workflow_yaml = yaml.safe_load(file)\n",
    "workflow_yaml[\"spec\"][\"imagePullSecrets\"] = [{\"name\": \"regcred\"}]\n",
    "with open(\"police_call_pipeline.yaml\", \"w\") as file:\n",
    "    yaml.dump(workflow_yaml, file, default_flow_style=False)\n",
    "        "
   ]
  }
 ],
 "metadata": {},
 "nbformat": 4,
 "nbformat_minor": 5
}
