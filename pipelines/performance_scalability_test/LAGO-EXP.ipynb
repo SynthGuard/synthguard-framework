{
 "cells": [
  {
   "cell_type": "markdown",
   "metadata": {},
   "source": [
    "# Imports"
   ]
  },
  {
   "cell_type": "code",
   "execution_count": 23,
   "metadata": {},
   "outputs": [],
   "source": [
    "BASE_IMAGE = 'gitlab.cyber.ee:5050/exai/data-synthesis-workflow-engine:latest'"
   ]
  },
  {
   "cell_type": "code",
   "execution_count": 24,
   "metadata": {},
   "outputs": [],
   "source": [
    "from kfp import dsl\n",
    "from kfp.compiler import Compiler\n",
    "from kfp import components as comp\n",
    "from typing import  NamedTuple"
   ]
  },
  {
   "cell_type": "markdown",
   "metadata": {},
   "source": [
    "# Load Data"
   ]
  },
  {
   "cell_type": "code",
   "execution_count": 25,
   "metadata": {},
   "outputs": [],
   "source": [
    "def input(output_csv: comp.OutputPath('csv')):\n",
    "\n",
    "\timport time\n",
    "\tstart_time = time.time()\n",
    "\n",
    "\timport synthguard.helper_functions as sd\n",
    "\tfrom synthguard.input_handler import InputHandler\n",
    "\tprint('Started loading data')\n",
    "\t#Component logic\n",
    "\tinputHandler = InputHandler()\n",
    "\tinputHandler.load_data_csv(\"https://opendata.smit.ee/ppa/csv/elamislubade_taotlused.csv\", n_rows=1000)\n",
    "\tprint('Finished loading data')\n",
    "\tinput_data = inputHandler.data\n",
    "\tsd.save_to_csv(input_data, output_csv)\n",
    "\t\n",
    "\tend_time = time.time()\n",
    "\tduration = (end_time - start_time) / 60\n",
    "\tprint(f\"Component completed in {duration:.2f} minutes.\")\n",
    "\n",
    "# Compiling funtion into a KFP component\n",
    "input_component = comp.create_component_from_func(func = input, base_image = BASE_IMAGE)"
   ]
  },
  {
   "cell_type": "markdown",
   "metadata": {},
   "source": [
    "# Preprocess Data"
   ]
  },
  {
   "cell_type": "code",
   "execution_count": 26,
   "metadata": {},
   "outputs": [],
   "source": [
    "def preprocess(input_csv: comp.InputPath('csv'), output_json: comp.OutputPath('json')):\n",
    "    import time\n",
    "    start_time = time.time()\n",
    "    import synthguard.helper_functions as sd\n",
    "    from synthguard.data_preprocessor import DataPreprocessor\n",
    "\n",
    "    #Component logic\n",
    "    input_data = sd.load_data_csv(input_csv)\n",
    "    dataPreprocessor = DataPreprocessor(data = input_data)\n",
    "\n",
    "    processed_data, metadata = dataPreprocessor.preprocess_data()\n",
    "    sd.save_metadata(metadata, output_json)\n",
    "    \n",
    "    end_time = time.time()\n",
    "    duration = (end_time - start_time) / 60\n",
    "    print(f\"Component completed in {duration:.2f} minutes.\")\n",
    "\n",
    "\n",
    "# Compiling funtion into a KFP component\n",
    "preprocess_component = comp.create_component_from_func(func = preprocess, base_image = BASE_IMAGE)"
   ]
  },
  {
   "cell_type": "markdown",
   "metadata": {},
   "source": [
    "# Synthetic Data Generation using CopulaGANSynthesizer"
   ]
  },
  {
   "cell_type": "code",
   "execution_count": 27,
   "metadata": {},
   "outputs": [],
   "source": [
    "def generation(input_csv: comp.InputPath('csv'), input_json:comp.InputPath('json'), output_csv: comp.OutputPath('csv')):\n",
    "    import time\n",
    "    start_time = time.time()\n",
    "    import synthguard.helper_functions as sd\n",
    "    from synthguard.synthetic_data_generator import SyntheticDataGenerator\n",
    "\n",
    "    # Parameters\n",
    "    n_rows = 1000\n",
    "    epochs = 32\n",
    "    locales = 'ee_ET'\n",
    "    synthetic_data_type = 'realistic'\n",
    "\n",
    "    #Component logic\n",
    "    metadata = sd.load_metadata(input_json)\n",
    "    real_data = sd.load_data_csv(input_csv)\n",
    "\n",
    "    syntheticDataGenerator = SyntheticDataGenerator(output_csv = output_csv, n_rows = n_rows, method= synthetic_data_type, locales=locales)\n",
    "    generated_data = syntheticDataGenerator.generate_synthetic_data(metadata = metadata, processed_data = real_data, Nepochs=epochs)\n",
    "    \n",
    "    end_time = time.time()\n",
    "    duration = (end_time - start_time) / 60\n",
    "    print(f\"Component completed in {duration:.2f} minutes.\")\n",
    "\n",
    "# Compiling funtion into a KFP component\n",
    "generation_component = comp.create_component_from_func(func = generation, base_image = BASE_IMAGE)\n"
   ]
  },
  {
   "cell_type": "markdown",
   "metadata": {},
   "source": [
    "# Diagnostic Report\n",
    "\n",
    "* The Diagnostic Report runs some basic checks for data format and validity. Run this to ensure that you have created valid synthetic data.\n",
    "    * **Data Validity:** Basic validity checks for each of the columns. For example, continuous values in the synthetic data must adhere to the min/max range in the real data\n",
    "    * **Structure:** Checks to ensure the real and synthetic data have the same column names and types. "
   ]
  },
  {
   "cell_type": "code",
   "execution_count": 28,
   "metadata": {},
   "outputs": [],
   "source": [
    "def diagnosticReport(input_synth_csv: comp.InputPath('csv'), input_real_csv: comp.InputPath('csv'), input_json:comp.InputPath('json'), output_html: comp.OutputPath('html')) -> NamedTuple('VisualizationOutput', [('mlpipeline_ui_metadata', 'UI_metadata')]):\n",
    "    import time\n",
    "    start_time = time.time()\n",
    "    \n",
    "    import synthguard.helper_functions as sd\n",
    "    import json\n",
    "\n",
    "    with open(output_html, \"w\") as f:\n",
    "        f.write(\"<html><body>\")  # Start the HTML document\n",
    "\n",
    "    #Component logic\n",
    "    from synthguard.diagnostic_report_generator import DiagnosticEvaluator    \n",
    "    # from diagnostic_report_generator import DiagnosticEvaluator\n",
    "    real_data = sd.load_data_csv(input_real_csv)\n",
    "    synthetic_data = sd.load_data_csv(input_synth_csv)\n",
    "    metadata = sd.load_metadata(input_json)\n",
    "    synthetic_data_type = 'realistic'\n",
    "\n",
    "    diagnosticReportGenerator = DiagnosticEvaluator(real_data = real_data, synthetic_data = synthetic_data, metadata = metadata, method=synthetic_data_type)\n",
    "    diagnosticReportGenerator.run_diagnostic_realistic()\n",
    "    diagnosticReportGenerator.plot_diagnostic_report_realistic()\n",
    "    diagnosticReportGenerator.save_plot_to_html(output_html)\n",
    "\n",
    "    # Read the HTML content for UI metadata\n",
    "    with open(output_html, 'r') as file:\n",
    "        html_content = file.read()\n",
    "\n",
    "    metadata = {\n",
    "        'outputs': [{\n",
    "            'type': 'web-app',\n",
    "            'storage': 'inline',\n",
    "            'source': html_content,\n",
    "        }]\n",
    "    }\n",
    "\n",
    "    from collections import namedtuple\n",
    "    visualization_output = namedtuple('VisualizationOutput', ['mlpipeline_ui_metadata'])\n",
    "    \n",
    "    end_time = time.time()\n",
    "    duration = (end_time - start_time) / 60\n",
    "    print(f\"Component completed in {duration:.2f} minutes.\")\n",
    "    \n",
    "    return visualization_output(json.dumps(metadata))\n",
    "\n",
    "# Compiling funtion into a KFP component\n",
    "diagnostic_component = comp.create_component_from_func(func = diagnosticReport, base_image = BASE_IMAGE)\n"
   ]
  },
  {
   "cell_type": "markdown",
   "metadata": {},
   "source": [
    "# Utility Report\n"
   ]
  },
  {
   "cell_type": "code",
   "execution_count": 29,
   "metadata": {},
   "outputs": [],
   "source": [
    "def qualityReport(input_synth_csv: comp.InputPath('csv'), input_real_csv: comp.InputPath('csv'), input_json:comp.InputPath('json'), output_html: comp.OutputPath('html')) -> NamedTuple('VisualizationOutput', [('mlpipeline_ui_metadata', 'UI_metadata')]):\n",
    "    import time\n",
    "    start_time = time.time()\n",
    "    \n",
    "    import synthguard.helper_functions as sd\n",
    "    import json\n",
    "\n",
    "    with open(output_html, \"w\") as f:\n",
    "        f.write(\"<html><body>\")  # Start the HTML document\n",
    "\n",
    "    #Component logic\n",
    "    from synthguard.quality_report_generator import DataQualityEvaluator\n",
    "    real_data = sd.load_data_csv(input_real_csv)\n",
    "    synthetic_data = sd.load_data_csv(input_synth_csv)\n",
    "    metadata = sd.load_metadata(input_json)\n",
    "    synthetic_data_type = 'realistic'\n",
    "    \n",
    "        \n",
    "    dataQualityEvaluator = DataQualityEvaluator(real_data = real_data, synthetic_data = synthetic_data, metadata = metadata, method=synthetic_data_type)\n",
    "    dataQualityEvaluator.evaluate_quality()\n",
    "    dataQualityEvaluator.plot_quality_report_realistic()\n",
    "    dataQualityEvaluator.save_plot_to_html(output_html)\n",
    "\n",
    "    # Read the HTML content for UI metadata\n",
    "    with open(output_html, 'r') as file:\n",
    "        html_content = file.read()\n",
    "\n",
    "    metadata = {\n",
    "        'outputs': [{\n",
    "            'type': 'web-app',\n",
    "            'storage': 'inline',\n",
    "            'source': html_content,\n",
    "        }]\n",
    "    }\n",
    "\n",
    "    from collections import namedtuple\n",
    "    visualization_output = namedtuple('VisualizationOutput', ['mlpipeline_ui_metadata'])\n",
    "    \n",
    "    end_time = time.time()\n",
    "    duration = (end_time - start_time) / 60\n",
    "    print(f\"Component completed in {duration:.2f} minutes.\")\n",
    "\n",
    "    return visualization_output(json.dumps(metadata))\n",
    "\n",
    "# Compiling funtion into a KFP component\n",
    "utility_component = comp.create_component_from_func(func = qualityReport, base_image = BASE_IMAGE)"
   ]
  },
  {
   "cell_type": "markdown",
   "metadata": {},
   "source": [
    "# Privacy Report"
   ]
  },
  {
   "cell_type": "code",
   "execution_count": 30,
   "metadata": {},
   "outputs": [],
   "source": [
    "def privacy(input_synth_csv: comp.InputPath('csv'), input_real_csv: comp.InputPath('csv'), input_json:comp.InputPath('json'), output_html: comp.OutputPath('html')) -> NamedTuple('VisualizationOutput', [('mlpipeline_ui_metadata', 'UI_metadata')]):\n",
    "    import time\n",
    "    start_time = time.time()\n",
    "    import synthguard.helper_functions as sd\n",
    "    import json\n",
    "\n",
    "    with open(output_html, \"w\") as f:\n",
    "        f.write(\"<html><body>\")  # Start the HTML document\n",
    "\n",
    "    #Component logic\n",
    "    from synthguard.privacy_report_generator import PrivacyRiskEvaluator\n",
    "    real_data = sd.load_data_csv(input_real_csv)\n",
    "    synthetic_data = sd.load_data_csv(input_synth_csv)\n",
    "    metadata = sd.load_metadata(input_json)\n",
    "    synthetic_data_type = 'realistic'\n",
    "    \n",
    "    \n",
    "    privacyRiskEvaluator = PrivacyRiskEvaluator(real_data = real_data, synthetic_data = synthetic_data, metadata = metadata, method=synthetic_data_type)\n",
    "    privacyRiskEvaluator.run_privacy_realistic()\n",
    "    privacyRiskEvaluator.plot_privacy_metrics_realistic()\n",
    "    privacyRiskEvaluator.save_plot_to_html(output_html)\n",
    "\n",
    "    # Read the HTML content for UI metadata\n",
    "    with open(output_html, 'r') as file:\n",
    "        html_content = file.read()\n",
    "\n",
    "    metadata = {\n",
    "        'outputs': [{\n",
    "            'type': 'web-app',\n",
    "            'storage': 'inline',\n",
    "            'source': html_content,\n",
    "        }]\n",
    "    }\n",
    "\n",
    "    from collections import namedtuple\n",
    "    visualization_output = namedtuple('VisualizationOutput', ['mlpipeline_ui_metadata'])\n",
    "    \n",
    "    end_time = time.time()\n",
    "    duration = (end_time - start_time) / 60\n",
    "    print(f\"Component completed in {duration:.2f} minutes.\")\n",
    "\n",
    "    return visualization_output(json.dumps(metadata))\n",
    "\n",
    "# Compiling funtion into a KFP component\n",
    "privacy_component = comp.create_component_from_func(func = privacy, base_image = BASE_IMAGE)"
   ]
  },
  {
   "cell_type": "markdown",
   "metadata": {},
   "source": [
    "# KFP Pipeline"
   ]
  },
  {
   "cell_type": "code",
   "execution_count": 31,
   "metadata": {},
   "outputs": [],
   "source": [
    "@dsl.pipeline(name='test_pipeline_1k', description='')\n",
    "def pipeline():\n",
    "\tinput = input_component()\n",
    "\tpreprocess = preprocess_component(input.output)\n",
    "\tgeneration = generation_component(input.output, preprocess.output)\n",
    "\tdianostic = diagnostic_component(input.output, generation.output, preprocess.output)\n",
    "\tutility = utility_component(input.output, generation.output, preprocess.output)\n",
    "\tprivacy = privacy_component(input.output, generation.output, preprocess.output)"
   ]
  },
  {
   "cell_type": "code",
   "execution_count": 32,
   "metadata": {},
   "outputs": [],
   "source": [
    "yamlfile = 'EXP_1K.yaml'\n",
    "Compiler().compile(pipeline, yamlfile)"
   ]
  },
  {
   "cell_type": "code",
   "execution_count": 33,
   "metadata": {},
   "outputs": [],
   "source": [
    "import yaml\n",
    "with open(yamlfile, \"r\") as file:\n",
    "    workflow_yaml = yaml.safe_load(file)\n",
    "workflow_yaml[\"spec\"][\"imagePullSecrets\"] = [{\"name\": \"regcred\"}]\n",
    "with open(yamlfile, \"w\") as file:\n",
    "    yaml.dump(workflow_yaml, file, default_flow_style=False)"
   ]
  },
  {
   "cell_type": "code",
   "execution_count": null,
   "metadata": {},
   "outputs": [],
   "source": []
  }
 ],
 "metadata": {
  "kernelspec": {
   "display_name": ".venv",
   "language": "python",
   "name": "python3"
  },
  "language_info": {
   "codemirror_mode": {
    "name": "ipython",
    "version": 3
   },
   "file_extension": ".py",
   "mimetype": "text/x-python",
   "name": "python",
   "nbconvert_exporter": "python",
   "pygments_lexer": "ipython3",
   "version": "3.10.17"
  }
 },
 "nbformat": 4,
 "nbformat_minor": 2
}
