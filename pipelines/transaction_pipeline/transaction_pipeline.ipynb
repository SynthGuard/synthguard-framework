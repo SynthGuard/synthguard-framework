{
 "cells": [
  {
   "cell_type": "code",
   "execution_count": 11,
   "metadata": {},
   "outputs": [],
   "source": [
    "#pip install kfp==1.8 --no-build-isolation"
   ]
  },
  {
   "cell_type": "code",
   "execution_count": 12,
   "metadata": {},
   "outputs": [],
   "source": [
    "from kfp import dsl\n",
    "from kfp import components as comp\n",
    "from kfp.compiler import Compiler"
   ]
  },
  {
   "cell_type": "markdown",
   "metadata": {},
   "source": [
    "# Components"
   ]
  },
  {
   "cell_type": "markdown",
   "metadata": {},
   "source": [
    "## Basic transaction details\n",
    "transaction ID | timestamp | amount | currency | payment method"
   ]
  },
  {
   "cell_type": "code",
   "execution_count": 13,
   "metadata": {},
   "outputs": [],
   "source": [
    "def transaction_details(start_date: str, end_date: str) -> dict:\n",
    "    import uuid\n",
    "    import datetime\n",
    "    import random\n",
    "    import time\n",
    "    import pandas as pd\n",
    "\n",
    "    currencies = [\n",
    "        'USD', 'EUR', 'GBP', 'JPY', 'CHF', 'CAD', 'AUD', 'NZD', 'CNY', 'INR',\n",
    "        'RUB', 'BRL', 'ZAR', 'SGD', 'HKD', 'MXN', 'NOK', 'SEK', 'DKK', 'PLN'\n",
    "    ]\n",
    "\n",
    "    def random_timestamp(start_date_str, end_date_str, date_format='%Y-%m-%d'):\n",
    "        # Convert date strings to datetime objects\n",
    "        start_date = datetime.datetime.strptime(start_date_str, date_format)\n",
    "        end_date = datetime.datetime.strptime(end_date_str, date_format)\n",
    "        \n",
    "        # Convert datetime objects to Unix timestamps\n",
    "        start_timestamp = int(time.mktime(start_date.timetuple()))\n",
    "        end_timestamp = int(time.mktime(end_date.timetuple()))\n",
    "        \n",
    "        # Generate a random timestamp between the start and end timestamps\n",
    "        random_timestamp = random.randint(start_timestamp, end_timestamp)\n",
    "        \n",
    "        # Convert the random timestamp back to a datetime object\n",
    "        random_date = datetime.datetime.fromtimestamp(random_timestamp)\n",
    "        \n",
    "        return random_date\n",
    "    \n",
    "    transaction = {\n",
    "        'transaction_id':str(uuid.uuid4()),\n",
    "        'timestamp':str(random_timestamp(start_date, end_date)),\n",
    "        'amount':round(random.uniform(0, 10000), 2),\n",
    "        'currency':random.choice(currencies),\n",
    "        'payment_method':random.choice(['CARD', 'TRANSFER'])\n",
    "        }\n",
    "    return transaction\n",
    "\n",
    "comp_transaction_details = comp.create_component_from_func(\n",
    "    transaction_details,\n",
    "    packages_to_install=['pandas']\n",
    ")"
   ]
  },
  {
   "cell_type": "markdown",
   "metadata": {},
   "source": [
    "## Business names"
   ]
  },
  {
   "cell_type": "code",
   "execution_count": 14,
   "metadata": {},
   "outputs": [],
   "source": [
    "def business_names() -> list:\n",
    "    import random\n",
    "    adjectives = [\n",
    "        \"Advanced\", \"Innovative\", \"Creative\", \"Dynamic\", \"Efficient\", \"Global\", \n",
    "        \"Modern\", \"Smart\", \"Sustainable\", \"Unique\", \"Visionary\", \"Reliable\", \n",
    "        \"Proactive\", \"NextGen\", \"Future\"\n",
    "    ]\n",
    "    nouns = [\n",
    "        \"Solutions\", \"Technologies\", \"Services\", \"Consulting\", \"Systems\", \n",
    "        \"Dynamics\", \"Enterprises\", \"Ventures\", \"Concepts\", \"Designs\", \"Strategies\",\n",
    "        \"Holdings\", \"Networks\", \"Group\", \"Partners\"\n",
    "    ]\n",
    "    suffixes = [\n",
    "        \"Inc.\", \"LLC\", \"Ltd.\", \"Corp.\", \"Co.\", \"Pty Ltd.\", \"AG\", \"GmbH\", \n",
    "        \"Associates\", \"Holdings\"\n",
    "    ]\n",
    "    \n",
    "    business_name1 = f\"{random.choice(adjectives)} {random.choice(nouns)} {random.choice(suffixes)}\"\n",
    "    business_name2 = f\"{random.choice(adjectives)} {random.choice(nouns)} {random.choice(suffixes)}\"\n",
    "    return [business_name1, business_name2]\n",
    "\n",
    "comp_business_names = comp.create_component_from_func(\n",
    "    business_names\n",
    ")"
   ]
  },
  {
   "cell_type": "markdown",
   "metadata": {},
   "source": [
    "## Parties involved\n",
    "sender ID | receiver ID | sender name | receiver name"
   ]
  },
  {
   "cell_type": "code",
   "execution_count": 15,
   "metadata": {},
   "outputs": [],
   "source": [
    "def parties_involved(transaction: dict, business_names: list) -> dict:\n",
    "    # Possible types on transactions\n",
    "    # 1. Person to Person\n",
    "    # 2. Business to Business\n",
    "    # 3. Person to Business\n",
    "    # 4. Business to Person\n",
    "    import random\n",
    "    from faker import Faker\n",
    "    import uuid\n",
    "\n",
    "    fake = Faker()\n",
    "    type = random.randint(1, 4)\n",
    "    \n",
    "    if type == 1:\n",
    "        sender_name = fake.name()\n",
    "        receiver_name = fake.name()\n",
    "    elif type == 2:\n",
    "        sender_name = business_names[0]\n",
    "        receiver_name = business_names[1]\n",
    "    elif type == 3:\n",
    "        sender_name = fake.name()\n",
    "        receiver_name = business_names[1]\n",
    "    elif type == 4:\n",
    "        sender_name = business_names[0]\n",
    "        receiver_name = fake.name()\n",
    "\n",
    "    transaction['sender_id'] = str(uuid.uuid4())\n",
    "    transaction['sender_name'] = sender_name\n",
    "\n",
    "    transaction['receiver_id'] = str(uuid.uuid4())\n",
    "    transaction['receiver_name'] = receiver_name\n",
    "\n",
    "    transaction['payment_method'] = random.choice(['CARD', 'TRANSFER'])\n",
    "    \n",
    "    return transaction\n",
    "\n",
    "comp_parties_involved = comp.create_component_from_func(\n",
    "    parties_involved,\n",
    "    packages_to_install=['faker']\n",
    ")"
   ]
  },
  {
   "cell_type": "code",
   "execution_count": 16,
   "metadata": {},
   "outputs": [],
   "source": [
    "def extract_payment_method(parties_info: dict) -> str:\n",
    "    return parties_info['payment_method']\n",
    "\n",
    "comp_extract_payment_method = comp.create_component_from_func(\n",
    "    extract_payment_method\n",
    ")"
   ]
  },
  {
   "cell_type": "markdown",
   "metadata": {},
   "source": [
    "## Payment method details\n",
    "account number(iban) | bank code(bic) or card number | card type "
   ]
  },
  {
   "cell_type": "code",
   "execution_count": 17,
   "metadata": {},
   "outputs": [],
   "source": [
    "def bank_details(transaction:dict, country_code:str='EE', bank_code_length:int=8, account_number_length:int=10) -> dict:\n",
    "    import random\n",
    "    import string\n",
    "\n",
    "    def generate_random_iban(country_code, bank_code_length, account_number_length):\n",
    "\n",
    "        bank_code = ''.join(random.choices(string.digits, k=bank_code_length))\n",
    "        account_number = ''.join(random.choices(string.digits, k=account_number_length))\n",
    "        check_digits = ''.join(random.choices(string.digits, k=2))\n",
    "        \n",
    "        iban = f\"{country_code}{check_digits} {bank_code} {account_number}\"\n",
    "        return iban\n",
    "\n",
    "    def generate_random_bic():\n",
    "        # Generate random BIC components\n",
    "        bank_code = ''.join(random.choices(string.ascii_uppercase, k=4))\n",
    "        country_code = ''.join(random.choices(string.ascii_uppercase, k=2))\n",
    "        location_code = ''.join(random.choices(string.ascii_uppercase + string.digits, k=2))\n",
    "        branch_code = ''.join(random.choices(string.ascii_uppercase + string.digits, k=3))\n",
    "        \n",
    "        # Construct the BIC\n",
    "        bic = f\"{bank_code}{country_code}{location_code}{branch_code}\"\n",
    "        return bic\n",
    "    \n",
    "    iban = generate_random_iban(country_code, bank_code_length, account_number_length)\n",
    "    bic = generate_random_bic()\n",
    "\n",
    "    transaction['iban'] = iban\n",
    "    transaction['bic'] = bic\n",
    "\n",
    "    return transaction\n",
    "\n",
    "\n",
    "\n",
    "comp_bank_details = comp.create_component_from_func(\n",
    "    bank_details\n",
    ")"
   ]
  },
  {
   "cell_type": "code",
   "execution_count": 18,
   "metadata": {},
   "outputs": [],
   "source": [
    "def card_details(transaction:dict) -> dict:\n",
    "    from faker import Faker\n",
    "    import random\n",
    "\n",
    "    fake = Faker()\n",
    "    transaction['card_number'] = fake.credit_card_number()\n",
    "    transaction['card_type'] = random.choice(['Visa', 'MasterCard', 'American Express', 'Discover', 'JCB'])\n",
    "\n",
    "    return transaction\n",
    "\n",
    "comp_card_details = comp.create_component_from_func(\n",
    "    card_details,\n",
    "    packages_to_install=['faker']\n",
    ")"
   ]
  },
  {
   "cell_type": "markdown",
   "metadata": {},
   "source": [
    "## Send to backend"
   ]
  },
  {
   "cell_type": "code",
   "execution_count": 19,
   "metadata": {},
   "outputs": [],
   "source": [
    "def send_transaction(transaction: dict, host_ip: str, port: int):\n",
    "    import time\n",
    "    import requests\n",
    "\n",
    "    def wait_for_port(host: str, port: int, timeout: int = 60) -> bool:\n",
    "        \"\"\"\n",
    "        Wait until the port on the host is open or the timeout is reached.\n",
    "        \"\"\"\n",
    "        import socket\n",
    "\n",
    "        start_time = time.time()\n",
    "        while time.time() - start_time < timeout:\n",
    "            with socket.socket(socket.AF_INET, socket.SOCK_STREAM) as sock:\n",
    "                result = sock.connect_ex((host, port))\n",
    "                if result == 0:\n",
    "                    return True\n",
    "                time.sleep(1)\n",
    "        return False\n",
    "\n",
    "\n",
    "    \"\"\"\n",
    "    Waits until the service port on the host machine is open and then sends a POST request.\n",
    "    \"\"\"\n",
    "    api_url = f'http://{host_ip}:{port}'\n",
    "    \n",
    "    # Wait until the port is available\n",
    "    if wait_for_port(host_ip, port):\n",
    "        print(f\"Port {port} on host {host_ip} is open. Sending POST request...\")\n",
    "        \n",
    "        try:\n",
    "            headers = {\n",
    "                'Content-Type': 'application/json'\n",
    "            }\n",
    "            response = requests.post(api_url, json=transaction, headers=headers)\n",
    "            response.raise_for_status()\n",
    "            print(f'Payment successful! Response: {response.json()}')\n",
    "        except requests.exceptions.RequestException as e:\n",
    "            print(f'Error: {e}')\n",
    "    else:\n",
    "        print(f\"Port {port} on host {host_ip} is not open after waiting.\")\n",
    "\n",
    "comp_send_transaction = comp.create_component_from_func(\n",
    "    send_transaction,\n",
    "    output_component_file='send_transaction.yaml',\n",
    "    packages_to_install=['requests']\n",
    ")"
   ]
  },
  {
   "cell_type": "markdown",
   "metadata": {},
   "source": [
    "# Pipeline"
   ]
  },
  {
   "cell_type": "code",
   "execution_count": 20,
   "metadata": {},
   "outputs": [],
   "source": [
    "@dsl.pipeline(\n",
    "    name='transaction pipeline'\n",
    ")\n",
    "def pipeline():\n",
    "    transaction = comp_transaction_details('2000-01-01', '2024-01-01')\n",
    "    business_names = comp_business_names()\n",
    "    parties_involved = comp_parties_involved(transaction.output, business_names.output)\n",
    "    \n",
    "    payment_method = comp_extract_payment_method(parties_involved.output)\n",
    "    \n",
    "    with dsl.Condition(payment_method.output == 'CARD'):\n",
    "        card_details = comp_card_details(parties_involved.output)\n",
    "        send_card_transaction = comp_send_transaction(card_details.output, '192.168.76.119', 3000)\n",
    "    \n",
    "    with dsl.Condition(payment_method.output == 'TRANSFER'):\n",
    "        bank_details = comp_bank_details(parties_involved.output, 'EE')\n",
    "        send_bank_transaction = comp_send_transaction(bank_details.output, '192.168.76.119', 3000)\n",
    "\n",
    "Compiler().compile(pipeline, 'transaction_pipeline.yaml')"
   ]
  }
 ],
 "metadata": {
  "kernelspec": {
   "display_name": "Python 3",
   "language": "python",
   "name": "python3"
  },
  "language_info": {
   "codemirror_mode": {
    "name": "ipython",
    "version": 3
   },
   "file_extension": ".py",
   "mimetype": "text/x-python",
   "name": "python",
   "nbconvert_exporter": "python",
   "pygments_lexer": "ipython3",
   "version": "3.12.3"
  }
 },
 "nbformat": 4,
 "nbformat_minor": 2
}
