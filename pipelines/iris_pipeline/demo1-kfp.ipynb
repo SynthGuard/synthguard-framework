{
 "cells": [
  {
   "cell_type": "markdown",
   "id": "459d5532",
   "metadata": {},
   "source": [
    "## Data Synthesis Pipeline"
   ]
  },
  {
   "cell_type": "markdown",
   "id": "ddfe574f",
   "metadata": {},
   "source": [
    "### Install Kubeflow Pipelines module"
   ]
  },
  {
   "cell_type": "code",
   "execution_count": 1,
   "id": "72db5b8c",
   "metadata": {},
   "outputs": [],
   "source": [
    "#Colab\n",
    "#!pip install kfp==1.8.22\n",
    "#VSCode\n",
    "#%pip install kfp==1.8.22"
   ]
  },
  {
   "cell_type": "code",
   "execution_count": 2,
   "id": "8c6b7f40",
   "metadata": {},
   "outputs": [],
   "source": [
    "from kfp import dsl\n",
    "from kfp.compiler import Compiler\n",
    "from kfp import components as comp\n",
    "from typing import  NamedTuple"
   ]
  },
  {
   "cell_type": "markdown",
   "id": "56ff3de0",
   "metadata": {},
   "source": [
    "Before importing Synthguard library, please install the package in your terminal ```pip install git+https://gitlab.cyber.ee/exai/synthguard```"
   ]
  },
  {
   "cell_type": "code",
   "execution_count": null,
   "id": "515589e0",
   "metadata": {},
   "outputs": [],
   "source": [
    "synthguard_library = ['synthguard repo']"
   ]
  },
  {
   "cell_type": "markdown",
   "id": "1948f395",
   "metadata": {},
   "source": [
    "## InputHandler Class"
   ]
  },
  {
   "cell_type": "markdown",
   "id": "7f1103f1",
   "metadata": {},
   "source": [
    "### Existing data from URL"
   ]
  },
  {
   "cell_type": "code",
   "execution_count": 3,
   "id": "7486381b",
   "metadata": {},
   "outputs": [
    {
     "name": "stdout",
     "output_type": "stream",
     "text": [
      "Data loaded successfully from https://gist.githubusercontent.com/netj/8836201/raw/6f9306ad21398ea43cba4f7d537619d0e07d5ae3/iris.csv\n"
     ]
    }
   ],
   "source": [
    "from synthguard.input_handler import InputHandler\n",
    "inputHandler = InputHandler()\n",
    "inputHandler.load_data_from_url(\"https://gist.githubusercontent.com/netj/8836201/raw/6f9306ad21398ea43cba4f7d537619d0e07d5ae3/iris.csv\")\n",
    "input_data = inputHandler.data\n"
   ]
  },
  {
   "cell_type": "markdown",
   "id": "3e3b4865",
   "metadata": {},
   "source": [
    "Kubeflow Pipelines Component - Adjust function parameters accordingly"
   ]
  },
  {
   "cell_type": "code",
   "execution_count": 4,
   "id": "5676950f",
   "metadata": {},
   "outputs": [
    {
     "name": "stdout",
     "output_type": "stream",
     "text": [
      "Error when stripping type annotations: No module named 'lib2to3'\n"
     ]
    }
   ],
   "source": [
    "\n",
    "def input(output_csv: comp.OutputPath('csv')):\n",
    "    from synthguard.input_handler import InputHandler\n",
    "    import synthguard.helper_functions as sd\n",
    "    inputHandler = InputHandler()\n",
    "    inputHandler.load_data_from_url(\"https://gist.githubusercontent.com/netj/8836201/raw/6f9306ad21398ea43cba4f7d537619d0e07d5ae3/iris.csv\")\n",
    "    input_data = inputHandler.data\n",
    "    sd.save_to_csv(input_data, output_csv)\n",
    "\n",
    "input_component = comp.create_component_from_func(func = input, base_image = 'python:3.10', packages_to_install = synthguard_library)\n"
   ]
  },
  {
   "cell_type": "markdown",
   "id": "dc17a20e",
   "metadata": {},
   "source": [
    "## DataPreprocessor Class"
   ]
  },
  {
   "cell_type": "code",
   "execution_count": 10,
   "id": "785cc5f7",
   "metadata": {},
   "outputs": [],
   "source": [
    "from synthguard.data_preprocessor import DataPreprocessor \n",
    "dataPreprocessor = DataPreprocessor(data = input_data)\n",
    "metadata = dataPreprocessor.extract_metadata()\n",
    "processed_data = dataPreprocessor.data\n"
   ]
  },
  {
   "cell_type": "code",
   "execution_count": 11,
   "id": "88eca852",
   "metadata": {},
   "outputs": [
    {
     "name": "stdout",
     "output_type": "stream",
     "text": [
      "     sepal.length  sepal.width  petal.length  petal.width    variety\n",
      "0             5.1          3.5           1.4          0.2     Setosa\n",
      "1             4.9          3.0           1.4          0.2     Setosa\n",
      "2             4.7          3.2           1.3          0.2     Setosa\n",
      "3             4.6          3.1           1.5          0.2     Setosa\n",
      "4             5.0          3.6           1.4          0.2     Setosa\n",
      "..            ...          ...           ...          ...        ...\n",
      "145           6.7          3.0           5.2          2.3  Virginica\n",
      "146           6.3          2.5           5.0          1.9  Virginica\n",
      "147           6.5          3.0           5.2          2.0  Virginica\n",
      "148           6.2          3.4           5.4          2.3  Virginica\n",
      "149           5.9          3.0           5.1          1.8  Virginica\n",
      "\n",
      "[150 rows x 5 columns]\n"
     ]
    }
   ],
   "source": [
    "print(processed_data)"
   ]
  },
  {
   "cell_type": "markdown",
   "id": "4890fe0e",
   "metadata": {},
   "source": [
    "Kubeflow Pipelines Component - Adjust function parameters accordingly"
   ]
  },
  {
   "cell_type": "code",
   "execution_count": 5,
   "id": "8733edd3",
   "metadata": {},
   "outputs": [
    {
     "name": "stdout",
     "output_type": "stream",
     "text": [
      "Error when stripping type annotations: No module named 'lib2to3'\n"
     ]
    }
   ],
   "source": [
    "\n",
    "def preprocess(input_csv: comp.InputPath('csv'), output_json: comp.OutputPath('json')):\n",
    "    from synthguard.data_preprocessor import DataPreprocessor\n",
    "    import synthguard.helper_functions as sd\n",
    "    input_data = sd.load_data_csv(input_csv)\n",
    "    dataPreprocessor = DataPreprocessor(data = input_data)\n",
    "    metadata = dataPreprocessor.extract_metadata()\n",
    "    sd.save_metadata(metadata, output_json)\n",
    "\n",
    "preprocess_component = comp.create_component_from_func(func = preprocess, base_image = 'python:3.10', packages_to_install = synthguard_library)\n"
   ]
  },
  {
   "cell_type": "markdown",
   "id": "04a31e3b",
   "metadata": {},
   "source": [
    "## SyntheticDataGenerator Class"
   ]
  },
  {
   "cell_type": "code",
   "execution_count": 7,
   "id": "b79f1388",
   "metadata": {},
   "outputs": [
    {
     "name": "stderr",
     "output_type": "stream",
     "text": [
      "/home/ktamm/data-synthesis-workflow-engine/.venv/lib/python3.12/site-packages/sdv/single_table/base.py:105: UserWarning: We strongly recommend saving the metadata using 'save_to_json' for replicability in future SDV versions.\n",
      "  warnings.warn(\n",
      "Gen. (1.25) | Discrim. (-0.06): 100%|██████████| 1/1 [00:00<00:00, 11.06it/s]\n"
     ]
    }
   ],
   "source": [
    "from synthguard.synthetic_data_generator import SyntheticDataGenerator\n",
    "syntheticDataGenerator = SyntheticDataGenerator(output_csv = None, n_rows = 10000, method= \"realistic\")\n",
    "generated_data = syntheticDataGenerator.generate_synthetic_data(metadata = metadata, processed_data = processed_data)\n"
   ]
  },
  {
   "cell_type": "markdown",
   "id": "68bc3c9d",
   "metadata": {},
   "source": [
    "Kubeflow Pipelines Component - Adjust function parameters accordingly"
   ]
  },
  {
   "cell_type": "code",
   "execution_count": 6,
   "id": "29bb0479",
   "metadata": {},
   "outputs": [
    {
     "name": "stdout",
     "output_type": "stream",
     "text": [
      "Error when stripping type annotations: No module named 'lib2to3'\n"
     ]
    }
   ],
   "source": [
    "\n",
    "def generation(input_csv: comp.InputPath('csv'), input_json: comp.InputPath('json'), output_csv: comp.OutputPath('csv')):\n",
    "    from synthguard.synthetic_data_generator import SyntheticDataGenerator\n",
    "    import synthguard.helper_functions as sd\n",
    "    metadata = sd.load_metadata(input_json)\n",
    "    data = sd.load_data_csv(input_csv)\n",
    "    syntheticDataGenerator = SyntheticDataGenerator(output_csv = output_csv, n_rows = 10000, method= \"realistic\")\n",
    "    generated_data = syntheticDataGenerator.generate_synthetic_data(metadata = metadata, processed_data = data)\n",
    "    print(generated_data)\n",
    "\n",
    "generation_component = comp.create_component_from_func(func = generation, base_image = 'python:3.10', packages_to_install = synthguard_library)\n"
   ]
  },
  {
   "cell_type": "markdown",
   "id": "75434673",
   "metadata": {},
   "source": [
    "## Quality Report Class"
   ]
  },
  {
   "cell_type": "code",
   "execution_count": 9,
   "id": "4f853ab1",
   "metadata": {},
   "outputs": [
    {
     "ename": "ModuleNotFoundError",
     "evalue": "No module named 'catboost'",
     "output_type": "error",
     "traceback": [
      "\u001b[0;31m---------------------------------------------------------------------------\u001b[0m",
      "\u001b[0;31mModuleNotFoundError\u001b[0m                       Traceback (most recent call last)",
      "Cell \u001b[0;32mIn[9], line 1\u001b[0m\n\u001b[0;32m----> 1\u001b[0m \u001b[38;5;28;01mfrom\u001b[39;00m \u001b[38;5;21;01msynthguard\u001b[39;00m\u001b[38;5;21;01m.\u001b[39;00m\u001b[38;5;21;01mquality_report_generator\u001b[39;00m \u001b[38;5;28;01mimport\u001b[39;00m DataQualityEvaluator\n\u001b[1;32m      2\u001b[0m dataQualityEvaluator \u001b[38;5;241m=\u001b[39m DataQualityEvaluator(real_data \u001b[38;5;241m=\u001b[39m processed_data, synthetic_data \u001b[38;5;241m=\u001b[39m generated_data, metadata \u001b[38;5;241m=\u001b[39m metadata)\n\u001b[1;32m      3\u001b[0m dataQualityEvaluator\u001b[38;5;241m.\u001b[39mevaluate_quality()\n",
      "File \u001b[0;32m~/data-synthesis-workflow-engine/.venv/lib/python3.12/site-packages/synthguard/quality_report_generator.py:3\u001b[0m\n\u001b[1;32m      1\u001b[0m \u001b[38;5;28;01mimport\u001b[39;00m \u001b[38;5;21;01mos\u001b[39;00m\n\u001b[1;32m      2\u001b[0m \u001b[38;5;28;01mimport\u001b[39;00m \u001b[38;5;21;01mmatplotlib\u001b[39;00m\u001b[38;5;21;01m.\u001b[39;00m\u001b[38;5;21;01mpyplot\u001b[39;00m \u001b[38;5;28;01mas\u001b[39;00m \u001b[38;5;21;01mplt\u001b[39;00m\n\u001b[0;32m----> 3\u001b[0m \u001b[38;5;28;01mfrom\u001b[39;00m \u001b[38;5;21;01mcatboost\u001b[39;00m \u001b[38;5;28;01mimport\u001b[39;00m CatBoostClassifier\n\u001b[1;32m      4\u001b[0m \u001b[38;5;28;01mfrom\u001b[39;00m \u001b[38;5;21;01msynthgauge\u001b[39;00m\u001b[38;5;21;01m.\u001b[39;00m\u001b[38;5;21;01mmetrics\u001b[39;00m\u001b[38;5;21;01m.\u001b[39;00m\u001b[38;5;21;01mpropensity\u001b[39;00m \u001b[38;5;28;01mimport\u001b[39;00m propensity_metrics, specks\n\u001b[1;32m      5\u001b[0m \u001b[38;5;28;01mfrom\u001b[39;00m \u001b[38;5;21;01msdv\u001b[39;00m\u001b[38;5;21;01m.\u001b[39;00m\u001b[38;5;21;01mevaluation\u001b[39;00m\u001b[38;5;21;01m.\u001b[39;00m\u001b[38;5;21;01msingle_table\u001b[39;00m \u001b[38;5;28;01mimport\u001b[39;00m evaluate_quality \u001b[38;5;28;01mas\u001b[39;00m evaluate_quality_sdv\n",
      "\u001b[0;31mModuleNotFoundError\u001b[0m: No module named 'catboost'"
     ]
    }
   ],
   "source": [
    "from synthguard.quality_report_generator import DataQualityEvaluator\n",
    "dataQualityEvaluator = DataQualityEvaluator(real_data = processed_data, synthetic_data = generated_data, metadata = metadata)\n",
    "dataQualityEvaluator.evaluate_quality()\n",
    "dataQualityEvaluator.visualize_quality_report()"
   ]
  },
  {
   "cell_type": "markdown",
   "id": "1146ba42",
   "metadata": {},
   "source": [
    "Kubeflow Pipelines Component - Adjust function parameters accordingly"
   ]
  },
  {
   "cell_type": "code",
   "execution_count": 7,
   "id": "d26b887c",
   "metadata": {},
   "outputs": [
    {
     "name": "stdout",
     "output_type": "stream",
     "text": [
      "Error when stripping type annotations: No module named 'lib2to3'\n"
     ]
    }
   ],
   "source": [
    "\n",
    "def qualityReport(input_synth_csv: comp.InputPath('csv'), input_real_csv: comp.InputPath('csv'), input_metadata: comp.InputPath('json'), output_html: comp.OutputPath('html')) -> NamedTuple('VisualizationOutput', [('mlpipeline_ui_metadata', 'UI_metadata')]):\n",
    "    from synthguard.quality_report_generator import DataQualityEvaluator\n",
    "    import synthguard.helper_functions as sd\n",
    "    import json\n",
    "\n",
    "    with open(output_html, \"w\") as f:\n",
    "        f.write(\"<html><body>\")  # Start the HTML document\n",
    "\n",
    "    processed_data = sd.load_data_csv(input_real_csv)\n",
    "    generated_data = sd.load_data_csv(input_synth_csv)\n",
    "    metadata = sd.load_metadata(input_metadata)\n",
    "\n",
    "    dataQualityEvaluator = DataQualityEvaluator(real_data = processed_data, synthetic_data = generated_data, metadata = metadata)\n",
    "    dataQualityEvaluator.evaluate_quality()\n",
    "    dataQualityEvaluator.save_plot_to_html(output_html)\n",
    "\n",
    "    with open(output_html, 'r') as file:\n",
    "        html_content = file.read()\n",
    "\n",
    "    metadata = {\n",
    "        'outputs': [{\n",
    "            'type': 'web-app',\n",
    "            'storage': 'inline',\n",
    "            'source': html_content,\n",
    "        }]\n",
    "    }\n",
    "\n",
    "    from collections import namedtuple\n",
    "    visualization_output = namedtuple('VisualizationOutput', ['mlpipeline_ui_metadata'])\n",
    "    return visualization_output(json.dumps(metadata))\n",
    "    \n",
    "quality_component = comp.create_component_from_func(func = qualityReport, base_image = 'python:3.10', packages_to_install = synthguard_library)\n"
   ]
  },
  {
   "cell_type": "markdown",
   "id": "efc77b11",
   "metadata": {},
   "source": [
    "## Privacy Report Class"
   ]
  },
  {
   "cell_type": "code",
   "execution_count": null,
   "id": "0d4b2d93",
   "metadata": {},
   "outputs": [],
   "source": [
    "from synthguard.privacy_report_generator import PrivacyRiskEvaluator\n",
    "privacyRiskEvaluator = PrivacyRiskEvaluator(real_data = processed_data, synthetic_data = generated_data, metadata = metadata)\n",
    "#privacyRiskEvaluator.evaluate_privacy()\n"
   ]
  },
  {
   "cell_type": "markdown",
   "id": "4d24f15c",
   "metadata": {},
   "source": [
    "Kubeflow Pipelines Component - Adjust function parameters accordingly"
   ]
  },
  {
   "cell_type": "code",
   "execution_count": null,
   "id": "437e104b",
   "metadata": {},
   "outputs": [
    {
     "name": "stdout",
     "output_type": "stream",
     "text": [
      "Error when stripping type annotations: No module named 'lib2to3'\n"
     ]
    }
   ],
   "source": [
    "\n",
    "def component(input_csv: comp.InputPath('csv'), output_csv: comp.OutputPath('csv')):\n",
    "    from synthguard.privacy_report_generator import PrivacyRiskEvaluator\n",
    "    privacyRiskEvaluator = PrivacyRiskEvaluator(real_data = processed_data, synthetic_data = generated_data, metadata = metadata)\n",
    "    #privacyRiskEvaluator.evaluate_privacy()\n",
    "\n",
    "privacy_component = comp.create_component_from_func(func = component, base_image = 'python:3.10', packages_to_install = synthguard_library)\n"
   ]
  },
  {
   "cell_type": "markdown",
   "id": "465982c7",
   "metadata": {},
   "source": [
    "**Pipeline**"
   ]
  },
  {
   "cell_type": "markdown",
   "id": "a9f0bd60",
   "metadata": {},
   "source": [
    "Connect all the modules and compile the pipeline"
   ]
  },
  {
   "cell_type": "code",
   "execution_count": 8,
   "id": "3e965bb1",
   "metadata": {},
   "outputs": [],
   "source": [
    "@dsl.pipeline(name='SDG_example_pipeline', description='')\n",
    "def pipeline():\n",
    "\tinput = input_component()\n",
    "\tpreprocess = preprocess_component(input.output)\n",
    "\tgeneration = generation_component(input.output, preprocess.output)\n",
    "\tquality = quality_component(generation.output, input.output, preprocess.output)"
   ]
  },
  {
   "cell_type": "code",
   "execution_count": 9,
   "id": "f86fd6da",
   "metadata": {},
   "outputs": [],
   "source": [
    "Compiler().compile(pipeline, 'demo1-kfp-pipeline.yaml')"
   ]
  }
 ],
 "metadata": {
  "kernelspec": {
   "display_name": ".venv",
   "language": "python",
   "name": "python3"
  },
  "language_info": {
   "codemirror_mode": {
    "name": "ipython",
    "version": 3
   },
   "file_extension": ".py",
   "mimetype": "text/x-python",
   "name": "python",
   "nbconvert_exporter": "python",
   "pygments_lexer": "ipython3",
   "version": "3.12.3"
  }
 },
 "nbformat": 4,
 "nbformat_minor": 5
}
