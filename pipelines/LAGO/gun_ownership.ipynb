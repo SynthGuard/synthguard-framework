{
 "cells": [
  {
   "cell_type": "markdown",
   "id": "c7e728d5",
   "metadata": {},
   "source": [
    "## Data Synthesis Pipeline"
   ]
  },
  {
   "cell_type": "markdown",
   "id": "794311c9",
   "metadata": {},
   "source": [
    "### Install Kubeflow Pipelines module"
   ]
  },
  {
   "cell_type": "code",
   "execution_count": null,
   "id": "7c6c9ab3",
   "metadata": {},
   "outputs": [],
   "source": [
    "#Colab\n",
    "#!pip install kfp==1.8.22\n",
    "#VSCode\n",
    "#%pip install kfp==1.8.22"
   ]
  },
  {
   "cell_type": "code",
   "execution_count": 12,
   "id": "08fbbafe",
   "metadata": {},
   "outputs": [],
   "source": [
    "from kfp import dsl\n",
    "from kfp.compiler import Compiler\n",
    "from kfp import components as comp\n",
    "from typing import NamedTuple"
   ]
  },
  {
   "cell_type": "code",
   "execution_count": 13,
   "id": "fe7a7332",
   "metadata": {},
   "outputs": [],
   "source": [
    "BASE_IMAGE  = \"kristiantamm/synthguard_public:latest\""
   ]
  },
  {
   "cell_type": "markdown",
   "id": "29831710",
   "metadata": {},
   "source": [
    "## InputHandler Class"
   ]
  },
  {
   "cell_type": "markdown",
   "id": "3a031d80",
   "metadata": {},
   "source": [
    "### Input data from URL"
   ]
  },
  {
   "cell_type": "code",
   "execution_count": null,
   "id": "a3b2b3c2",
   "metadata": {},
   "outputs": [],
   "source": [
    "from synthguard.input_handler import InputHandler\n",
    "inputHandler = InputHandler()\n",
    "input_data = inputHandler.load_data_from_url(\"https://example.com/gun_ownership.csv\")\n"
   ]
  },
  {
   "cell_type": "markdown",
   "id": "91cf7146",
   "metadata": {},
   "source": [
    "Kubeflow Pipelines Component - Adjust function parameters accordingly"
   ]
  },
  {
   "cell_type": "code",
   "execution_count": 22,
   "id": "e3e25b61",
   "metadata": {},
   "outputs": [
    {
     "name": "stdout",
     "output_type": "stream",
     "text": [
      "Error when stripping type annotations: No module named 'lib2to3'\n"
     ]
    }
   ],
   "source": [
    "\n",
    "def input_component(output_csv: comp.OutputPath('csv'), mlpipeline_ui_metadata_path: comp.OutputPath()):\n",
    "    import synthguard.helper_functions as sd\n",
    "    #Component logic\n",
    "    from synthguard.input_handler import InputHandler\n",
    "    import json\n",
    "    import pandas as pd\n",
    "    inputHandler = InputHandler()\n",
    "    inputHandler.load_data_csv(\"https://raw.githubusercontent.com/SynthGuard/synthguard-framework/main/pipelines/LAGO/synthetic_datasets/expanded_gun_ownership_dataset.csv\")\n",
    "    inputHandler.data = inputHandler.data.replace([pd.NA, None, '-'], 'None')\n",
    "    sd.save_to_csv(inputHandler.data, output_csv)\n",
    "\n",
    "    # Visualize the data\n",
    "    first_10 = inputHandler.data.head(10)\n",
    "    table_metadata = {\n",
    "        'outputs': [{\n",
    "            'type': 'table',\n",
    "            'storage': 'inline',\n",
    "            'format': 'csv',\n",
    "            'header': list(first_10.columns),\n",
    "            'source': first_10.to_csv(index=False)\n",
    "        }]\n",
    "    }\n",
    "\n",
    "    with open(mlpipeline_ui_metadata_path, 'w') as f:\n",
    "        json.dump(table_metadata, f)\n",
    "\n",
    "# Compiling function into a KFP component\n",
    "input_component = comp.create_component_from_func(func=input_component, base_image=BASE_IMAGE)\n"
   ]
  },
  {
   "cell_type": "markdown",
   "id": "64598f03",
   "metadata": {},
   "source": [
    "## DataPreprocessor Class"
   ]
  },
  {
   "cell_type": "code",
   "execution_count": null,
   "id": "5a181685",
   "metadata": {},
   "outputs": [],
   "source": [
    "from synthguard.data_preprocessor import DataPreprocessor\n",
    "input_data = sd.load_data_csv(input_csv)\n",
    "dataPreprocessor = DataPreprocessor(data=input_data)\n",
    "metadata = dataPreprocessor.extract_metadata()\n",
    "processed_data = dataPreprocessor.data\n"
   ]
  },
  {
   "cell_type": "markdown",
   "id": "a67d37cc",
   "metadata": {},
   "source": [
    "Kubeflow Pipelines Component - Adjust function parameters accordingly"
   ]
  },
  {
   "cell_type": "code",
   "execution_count": 15,
   "id": "a38e02aa",
   "metadata": {},
   "outputs": [
    {
     "name": "stdout",
     "output_type": "stream",
     "text": [
      "Error when stripping type annotations: No module named 'lib2to3'\n"
     ]
    }
   ],
   "source": [
    "\n",
    "def preprocess_component(input_csv: comp.InputPath('csv'), output_json: comp.OutputPath('json')):\n",
    "    import synthguard.helper_functions as sd\n",
    "    #Component logic\n",
    "    from synthguard.data_preprocessor import DataPreprocessor\n",
    "    input_data = sd.load_data_csv(input_csv)\n",
    "    dataPreprocessor = DataPreprocessor(data=input_data)\n",
    "    metadata = dataPreprocessor.extract_metadata()\n",
    "    sd.save_metadata(metadata, output_json)\n",
    "    # Compiling function into a KFP component\n",
    "preprocess_component = comp.create_component_from_func(func=preprocess_component, base_image=BASE_IMAGE)\n"
   ]
  },
  {
   "cell_type": "markdown",
   "id": "38e41590",
   "metadata": {},
   "source": [
    "## SyntheticDataGenerator Class"
   ]
  },
  {
   "cell_type": "code",
   "execution_count": null,
   "id": "b73899a6",
   "metadata": {},
   "outputs": [],
   "source": [
    "from synthguard.synthetic_data_generator import SyntheticDataGenerator\n",
    "syntheticDataGenerator = SyntheticDataGenerator(output_csv=None, n_rows=1000, method=\"realistic\")\n",
    "generated_data = syntheticDataGenerator.generate_synthetic_data(metadata=metadata, processed_data=processed_data)\n"
   ]
  },
  {
   "cell_type": "markdown",
   "id": "23287ed3",
   "metadata": {},
   "source": [
    "Kubeflow Pipelines Component - Adjust function parameters accordingly"
   ]
  },
  {
   "cell_type": "code",
   "execution_count": 16,
   "id": "0f0cab62",
   "metadata": {},
   "outputs": [
    {
     "name": "stdout",
     "output_type": "stream",
     "text": [
      "Error when stripping type annotations: No module named 'lib2to3'\n"
     ]
    }
   ],
   "source": [
    "\n",
    "def generation_component(n_rows:int, input_csv: comp.InputPath('csv'), input_json:comp.InputPath('json'), output_csv: comp.OutputPath('csv'), mlpipeline_ui_metadata_path: comp.OutputPath()):\n",
    "    import synthguard.helper_functions as sd\n",
    "    #Component logic\n",
    "    from synthguard.synthetic_data_generator import SyntheticDataGenerator\n",
    "    from synthguard.generate_personal_data import PersonalFaker\n",
    "    import json\n",
    "    processed_data = sd.load_data_csv(input_csv)\n",
    "    metadata = sd.load_metadata(input_json)\n",
    "    syntheticDataGenerator = SyntheticDataGenerator(output_csv=None, n_rows=n_rows, method=\"realistic\")\n",
    "    generated_data = syntheticDataGenerator.generate_synthetic_data(metadata=metadata, processed_data=processed_data)\n",
    "    # Add Estonian names and surnames\n",
    "    personal_faker = PersonalFaker()\n",
    "    for idx, row in generated_data.iterrows():\n",
    "        if 'Gender' in row and 'Full Name' in row:\n",
    "            if row['Gender'] == 'Male':\n",
    "                first_name = personal_faker.first_name_male_est()\n",
    "                last_name = personal_faker.last_name_est()\n",
    "            elif row['Gender'] == 'Female':\n",
    "                first_name = personal_faker.first_name_female_est()\n",
    "                last_name = personal_faker.last_name_est()\n",
    "            else:\n",
    "                first_name = personal_faker.first_name_est()\n",
    "                last_name = personal_faker.last_name_est()\n",
    "            generated_data.at[idx, 'Full Name'] = f\"{first_name} {last_name}\"\n",
    "\n",
    "    # Add residential addresses\n",
    "    addresses = personal_faker.generate_local_addresses(len(generated_data))\n",
    "    generated_data['Residential Address'] = [f\"{street}, {city}\" for street, city in addresses]\n",
    "\n",
    "    sd.save_to_csv(generated_data, output_csv)\n",
    "\n",
    "    #Visualize the generated data\n",
    "    first_10 = generated_data.head(10)\n",
    "    table_metadata = {\n",
    "        'outputs': [{\n",
    "            'type': 'table',\n",
    "            'storage': 'inline',\n",
    "            'format': 'csv',\n",
    "            'header': list(first_10.columns),\n",
    "            'source': first_10.to_csv(index=False)\n",
    "        }]\n",
    "    }\n",
    "    with open(mlpipeline_ui_metadata_path, 'w') as f:\n",
    "        json.dump(table_metadata, f)\n",
    "    \n",
    "    # Compiling function into a KFP component\n",
    "generation_component = comp.create_component_from_func(func=generation_component, base_image=BASE_IMAGE)\n"
   ]
  },
  {
   "cell_type": "markdown",
   "id": "c79b0021",
   "metadata": {},
   "source": [
    "## Privacy Report Class"
   ]
  },
  {
   "cell_type": "code",
   "execution_count": null,
   "id": "191dd2dc",
   "metadata": {},
   "outputs": [],
   "source": [
    "from synthguard.privacy_report_generator import PrivacyRiskEvaluator\n",
    "synthetic_data = sd.load_data_csv(input_synth_csv)\n",
    "real_data = sd.load_data_csv(input_real_csv)\n",
    "metadata = sd.load_metadata(input_json)\n",
    "privacyRiskEvaluator = PrivacyRiskEvaluator(real_data = real_data, synthetic_data = synthetic_data, metadata = metadata, method=\"realistic\")\n",
    "privacyRiskEvaluator.evaluate_privacy()\n",
    "privacyRiskEvaluator.visualize_privacy_report()\n"
   ]
  },
  {
   "cell_type": "markdown",
   "id": "0625227c",
   "metadata": {},
   "source": [
    "Kubeflow Pipelines Visual Component - Adjust function parameters accordingly"
   ]
  },
  {
   "cell_type": "code",
   "execution_count": 17,
   "id": "3466bb73",
   "metadata": {},
   "outputs": [
    {
     "name": "stdout",
     "output_type": "stream",
     "text": [
      "Error when stripping type annotations: No module named 'lib2to3'\n"
     ]
    }
   ],
   "source": [
    "\n",
    "def privacy_report_component(input_synth_csv: comp.InputPath('csv'), input_real_csv: comp.InputPath('csv'), input_json:comp.InputPath('json'), output_html: comp.OutputPath('html')) -> NamedTuple('VisualizationOutput', [('mlpipeline_ui_metadata', 'UI_metadata')]):\n",
    "    import synthguard.helper_functions as sd\n",
    "    import json\n",
    "\n",
    "    with open(output_html, \"w\") as f:\n",
    "        f.write(\"<html><body>\")  # Start the HTML document\n",
    "\n",
    "    #Component logic\n",
    "    from synthguard.privacy_report_generator import PrivacyRiskEvaluator\n",
    "    from synthguard.data_preprocessor import DataPreprocessor\n",
    "    synthetic_data = sd.load_data_csv(input_synth_csv)\n",
    "    real_data = sd.load_data_csv(input_real_csv)\n",
    "    metadata = sd.load_metadata(input_json)\n",
    "    privacyRiskEvaluator = PrivacyRiskEvaluator(real_data = real_data, synthetic_data = synthetic_data, metadata = metadata, method=\"realistic\")\n",
    "    privacyRiskEvaluator.run_privacy_realistic()\n",
    "    privacyRiskEvaluator.plot_privacy_metrics_realistic()\n",
    "    privacyRiskEvaluator.save_plot_to_html(output_html)\n",
    "\n",
    "    #Write visualization elements into output_html file\n",
    "\n",
    "    # Read the HTML content for UI metadata\n",
    "    with open(output_html, 'r') as file:\n",
    "        html_content = file.read()\n",
    "    metadata = {\n",
    "        'outputs': [{'type': 'web-app', 'storage': 'inline', 'source': html_content}]\n",
    "    }\n",
    "\n",
    "    from collections import namedtuple\n",
    "    visualization_output = namedtuple('VisualizationOutput', ['mlpipeline_ui_metadata'])\n",
    "    return visualization_output(json.dumps(metadata))\n",
    "\n",
    "    # Compiling function into a KFP component\n",
    "privacy_report_component = comp.create_component_from_func(func=privacy_report_component, base_image=BASE_IMAGE)\n"
   ]
  },
  {
   "cell_type": "markdown",
   "id": "bdd514c1",
   "metadata": {},
   "source": [
    "## Utility Report Class"
   ]
  },
  {
   "cell_type": "code",
   "execution_count": null,
   "id": "f2ad33f4",
   "metadata": {},
   "outputs": [],
   "source": [
    "from synthguard.utility_report_generator import UtilityEvaluator\n",
    "synthetic_data = sd.load_data_csv(input_synth_csv)\n",
    "real_data = sd.load_data_csv(input_real_csv)\n",
    "metadata = sd.load_metadata(input_json)\n",
    "utilityEvaluator = utilityEvaluator(real_data = real_data, synthetic_data = synthetic_data, metadata = metadata, method=\"realistic\")\n",
    "utilityEvaluator.evaluate_utility()\n",
    "utilityEvaluator.visualize_utility_report()\n"
   ]
  },
  {
   "cell_type": "markdown",
   "id": "eb1739f9",
   "metadata": {},
   "source": [
    "Kubeflow Pipelines Visual Component - Adjust function parameters accordingly"
   ]
  },
  {
   "cell_type": "code",
   "execution_count": 18,
   "id": "9ffb78e6",
   "metadata": {},
   "outputs": [
    {
     "name": "stdout",
     "output_type": "stream",
     "text": [
      "Error when stripping type annotations: No module named 'lib2to3'\n"
     ]
    }
   ],
   "source": [
    "\n",
    "def utility_report_component(input_synth_csv: comp.InputPath('csv'), input_real_csv: comp.InputPath('csv'), input_json:comp.InputPath('json'), output_html: comp.OutputPath('html')) -> NamedTuple('VisualizationOutput', [('mlpipeline_ui_metadata', 'UI_metadata')]):\n",
    "    import synthguard.helper_functions as sd\n",
    "    import json\n",
    "\n",
    "    with open(output_html, \"w\") as f:\n",
    "        f.write(\"<html><body>\")  # Start the HTML document\n",
    "\n",
    "    #Component logic\n",
    "    from synthguard.quality_report_generator import DataQualityEvaluator\n",
    "    synthetic_data = sd.load_data_csv(input_synth_csv)\n",
    "    real_data = sd.load_data_csv(input_real_csv)\n",
    "    metadata = sd.load_metadata(input_json)\n",
    "    qualityEvaluator = DataQualityEvaluator(real_data = real_data, synthetic_data = synthetic_data, metadata = metadata, method=\"realistic\")\n",
    "    qualityEvaluator.evaluate_quality()\n",
    "    qualityEvaluator.plot_quality_report_realistic()\n",
    "    qualityEvaluator.save_plot_to_html(output_html)\n",
    "    #Write visualization elements into output_html file\n",
    "\n",
    "    # Read the HTML content for UI metadata\n",
    "    with open(output_html, 'r') as file:\n",
    "        html_content = file.read()\n",
    "    metadata = {\n",
    "        'outputs': [{'type': 'web-app', 'storage': 'inline', 'source': html_content}]\n",
    "    }\n",
    "\n",
    "    from collections import namedtuple\n",
    "    visualization_output = namedtuple('VisualizationOutput', ['mlpipeline_ui_metadata'])\n",
    "    return visualization_output(json.dumps(metadata))\n",
    "\n",
    "    # Compiling function into a KFP component\n",
    "utility_report_component = comp.create_component_from_func(func=utility_report_component, base_image=BASE_IMAGE)\n"
   ]
  },
  {
   "cell_type": "markdown",
   "id": "45904071",
   "metadata": {},
   "source": [
    "## Diagnostic Report Class"
   ]
  },
  {
   "cell_type": "code",
   "execution_count": null,
   "id": "2b68fec2",
   "metadata": {},
   "outputs": [],
   "source": [
    "from synthguard.diagnostic_report_generator import DiagnosticEvaluator\n",
    "diagnosticEvaluator = DiagnosticEvaluator(real_data=processed_data, synthetic_data=generated_data, metadata=metadata)\n",
    "diagnosticEvaluator.evaluate_diagnostic()\n",
    "diagnosticEvaluator.visualize_diagnostic_report()\n"
   ]
  },
  {
   "cell_type": "markdown",
   "id": "c0a9e24c",
   "metadata": {},
   "source": [
    "Kubeflow Pipelines Visual Component - Adjust function parameters accordingly"
   ]
  },
  {
   "cell_type": "code",
   "execution_count": 19,
   "id": "6ac06ce3",
   "metadata": {},
   "outputs": [
    {
     "name": "stdout",
     "output_type": "stream",
     "text": [
      "Error when stripping type annotations: No module named 'lib2to3'\n"
     ]
    }
   ],
   "source": [
    "\n",
    "def diagnostic_report_component(input_synth_csv: comp.InputPath('csv'), input_real_csv: comp.InputPath('csv'), input_json:comp.InputPath('json'), output_html: comp.OutputPath('html')) -> NamedTuple('VisualizationOutput', [('mlpipeline_ui_metadata', 'UI_metadata')]):\n",
    "    import synthguard.helper_functions as sd\n",
    "    import json\n",
    "\n",
    "    with open(output_html, \"w\") as f:\n",
    "        f.write(\"<html><body>\")  # Start the HTML document\n",
    "\n",
    "    #Component logic\n",
    "    from synthguard.diagnostic_report_generator import DiagnosticEvaluator\n",
    "    real_data = sd.load_data_csv(input_real_csv)\n",
    "    synthetic_data = sd.load_data_csv(input_synth_csv)\n",
    "    metadata = sd.load_metadata(input_json)\n",
    "\n",
    "    diagnosticEvaluator = DiagnosticEvaluator(real_data=real_data, synthetic_data=synthetic_data, metadata=metadata)\n",
    "    diagnosticEvaluator.run_diagnostic_realistic()\n",
    "    diagnosticEvaluator.plot_diagnostic_report_realistic()\n",
    "    diagnosticEvaluator.save_plot_to_html(output_html)\n",
    "\n",
    "    #Write visualization elements into output_html file\n",
    "\n",
    "    # Read the HTML content for UI metadata\n",
    "    with open(output_html, 'r') as file:\n",
    "        html_content = file.read()\n",
    "    metadata = {\n",
    "        'outputs': [{'type': 'web-app', 'storage': 'inline', 'source': html_content}]\n",
    "    }\n",
    "\n",
    "    from collections import namedtuple\n",
    "    visualization_output = namedtuple('VisualizationOutput', ['mlpipeline_ui_metadata'])\n",
    "    return visualization_output(json.dumps(metadata))\n",
    "\n",
    "    # Compiling function into a KFP component\n",
    "diagnostic_report_component = comp.create_component_from_func(func=diagnostic_report_component, base_image=BASE_IMAGE)\n"
   ]
  },
  {
   "cell_type": "markdown",
   "id": "aa667718",
   "metadata": {},
   "source": [
    "## Pipeline"
   ]
  },
  {
   "cell_type": "markdown",
   "id": "1abcbb97",
   "metadata": {},
   "source": [
    "Connect all the modules and compile the pipeline"
   ]
  },
  {
   "cell_type": "markdown",
   "id": "1e2307b2",
   "metadata": {},
   "source": [
    "### Example\n",
    "```\n",
    "@dsl.pipeline(name='example_pipeline', description='example_desc')\n",
    "def pipeline():\n",
    "\tinput = input_component()\n",
    "\tpreprocess = preprocess_component(input.output)\n",
    "\tgeneration = generation_component(input.output, preprocess.output)\n",
    "\tdianostic = diagnostic_report_component(input.output, generation.output, preprocess.output)\n",
    "\tutility = utility_report_component(input.output, generation.output, preprocess.output)\n",
    "\tprivacy = privacy_report_component(input.output, generation.output, preprocess.output)\n",
    "```\n"
   ]
  },
  {
   "cell_type": "code",
   "execution_count": 23,
   "id": "77b4297c",
   "metadata": {},
   "outputs": [],
   "source": [
    "@dsl.pipeline(name=\"gun_ownership_pipeline\", description=\"Gun ownership dataset synthetic data pipeline\")\n",
    "def pipeline(n_rows: int):\n",
    "\tinput_data = input_component()\n",
    "\tpreprocess_task = preprocess_component(input_csv=input_data.output)\n",
    "\tgeneration_task = generation_component(n_rows, input_data.output, preprocess_task.output)\n",
    "\tprivacy_report_task = privacy_report_component(input_synth_csv=generation_task.output, input_real_csv=input_data.output, input_json=preprocess_task.output)\n",
    "\tutility_report_task = utility_report_component(input_synth_csv=generation_task.output, input_real_csv=input_data.output, input_json=preprocess_task.output)\n",
    "\tdiagnostic_report_task = diagnostic_report_component(input_synth_csv=generation_task.output, input_real_csv=input_data.output, input_json=preprocess_task.output)"
   ]
  },
  {
   "cell_type": "code",
   "execution_count": 24,
   "id": "459e5cad",
   "metadata": {},
   "outputs": [],
   "source": [
    "Compiler().compile(pipeline, \"gun_ownership_pipeline.yaml\")"
   ]
  },
  {
   "cell_type": "code",
   "execution_count": null,
   "id": "f7c54a64",
   "metadata": {},
   "outputs": [],
   "source": []
  }
 ],
 "metadata": {
  "kernelspec": {
   "display_name": ".venv",
   "language": "python",
   "name": "python3"
  },
  "language_info": {
   "codemirror_mode": {
    "name": "ipython",
    "version": 3
   },
   "file_extension": ".py",
   "mimetype": "text/x-python",
   "name": "python",
   "nbconvert_exporter": "python",
   "pygments_lexer": "ipython3",
   "version": "3.12.3"
  }
 },
 "nbformat": 4,
 "nbformat_minor": 5
}
