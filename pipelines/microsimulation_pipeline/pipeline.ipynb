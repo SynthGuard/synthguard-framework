{
 "cells": [
  {
   "cell_type": "code",
   "execution_count": 1,
   "metadata": {},
   "outputs": [],
   "source": [
    "from kfp import dsl\n",
    "from kfp import components as comp\n",
    "from kfp.compiler import Compiler"
   ]
  },
  {
   "cell_type": "markdown",
   "metadata": {},
   "source": [
    "## Data preprocessing"
   ]
  },
  {
   "cell_type": "code",
   "execution_count": 2,
   "metadata": {},
   "outputs": [],
   "source": [
    "def data_load(output_csv: comp.OutputPath('csv'), dataset_name:str = 'titanic'):\n",
    "    import bnlearn as bn\n",
    "\n",
    "    #Load data\n",
    "    df = bn.import_example(dataset_name)\n",
    "\n",
    "    dfhot, dfnum = bn.df2onehot(df)\n",
    "    df = dfnum\n",
    "\n",
    "    #TODO If some columns are with continues data, discretize that data\n",
    "    \n",
    "    print(df.head())\n",
    "    print(df.describe())\n",
    "    df.to_csv(output_csv)\n",
    "\n",
    "comp_data_load = comp.create_component_from_func(\n",
    "    data_load,\n",
    "    packages_to_install=['bnlearn']\n",
    ")"
   ]
  },
  {
   "cell_type": "markdown",
   "metadata": {},
   "source": [
    "## Structure learning"
   ]
  },
  {
   "cell_type": "code",
   "execution_count": 3,
   "metadata": {},
   "outputs": [],
   "source": [
    "def structure_learning(input_csv: comp.InputPath('csv'), \n",
    "                       output_df: comp.OutputPath('csv'), \n",
    "                       output_model: comp.OutputPath('pkl'), \n",
    "                       edges:list = []):\n",
    "    import bnlearn as bn\n",
    "    import pandas as pd\n",
    "    import pickle\n",
    "\n",
    "    if edges:\n",
    "        DAG = bn.make_DAG(edges)\n",
    "        bn.plot(DAG)\n",
    "        return {\n",
    "            'df':df,\n",
    "            'model': DAG\n",
    "        }\n",
    "    \n",
    "    #TODO Compare different structure learning algos\n",
    "\n",
    "    df = pd.read_csv(input_csv)\n",
    "\n",
    "    model = bn.structure_learning.fit(df)\n",
    "    G = bn.plot(model, interactive=False)\n",
    "\n",
    "    model = bn.independence_test(model, df, test='chi_square', alpha=0.05, prune=True)\n",
    "    bn.plot(model, interactive=False, pos=G['pos'])\n",
    "\n",
    "    df.to_csv(output_df)\n",
    "\n",
    "    with open(output_model, 'wb') as file:\n",
    "        pickle.dump(model, file)\n",
    "\n",
    "comp_structure_learning = comp.create_component_from_func(\n",
    "    structure_learning,\n",
    "    packages_to_install=['bnlearn', 'pandas']\n",
    ")"
   ]
  },
  {
   "cell_type": "markdown",
   "metadata": {},
   "source": [
    "## Parameter learning"
   ]
  },
  {
   "cell_type": "code",
   "execution_count": 4,
   "metadata": {},
   "outputs": [],
   "source": [
    "def parameter_learning(input_model: comp.InputPath('pkl'), input_df: comp.InputPath('csv'), output_model: comp.OutputPath('pkl')):\n",
    "    import bnlearn as bn\n",
    "    import pickle\n",
    "    import pandas as pd\n",
    "\n",
    "    with open(input_model, 'rb') as file:\n",
    "        model = pickle.load(file)\n",
    "\n",
    "    df = pd.read_csv(input_df)\n",
    "\n",
    "    updated_model = bn.parameter_learning.fit(model, df)\n",
    "\n",
    "    with open(output_model, 'wb') as file:\n",
    "        pickle.dump(updated_model, file)\n",
    "\n",
    "\n",
    "comp_parameter_learning = comp.create_component_from_func(\n",
    "    parameter_learning,\n",
    "    packages_to_install=['bnlearn', 'pandas']\n",
    ")"
   ]
  },
  {
   "cell_type": "markdown",
   "metadata": {},
   "source": [
    "## Inference"
   ]
  },
  {
   "cell_type": "code",
   "execution_count": 5,
   "metadata": {},
   "outputs": [],
   "source": [
    "def inference(input_model: comp.InputPath('pkl'), inference:dict={'variables':['Survived', 'Sex'], 'evidence':{'Pclass':1}}):\n",
    "    import bnlearn as bn\n",
    "    import pickle\n",
    "\n",
    "    with open(input_model, 'rb') as file:\n",
    "        model = pickle.load(file)\n",
    "\n",
    "    inf = bn.inference.fit(model, variables=inference['variables'], evidence=inference['evidence'])\n",
    "\n",
    "comp_inference = comp.create_component_from_func(\n",
    "    inference,\n",
    "    packages_to_install=['bnlearn']\n",
    ")"
   ]
  },
  {
   "cell_type": "markdown",
   "metadata": {},
   "source": [
    "## Sampling"
   ]
  },
  {
   "cell_type": "code",
   "execution_count": 6,
   "metadata": {},
   "outputs": [],
   "source": [
    "def sampling(input_model: comp.InputPath('pkl'), n_sample: int, output_model: comp.OutputPath('csv'), methodtype='bayes'):\n",
    "    import bnlearn as bn\n",
    "    import pandas as pd\n",
    "    import pickle\n",
    "\n",
    "    with open(input_model, 'rb') as file:\n",
    "        model = pickle.load(file)\n",
    "\n",
    "\n",
    "    df = bn.sampling(model, n=n_sample, methodtype=methodtype)\n",
    "    print(df.head())\n",
    "    df.to_csv(output_model)\n",
    "\n",
    "comp_sampling = comp.create_component_from_func(\n",
    "    sampling,\n",
    "    packages_to_install=['bnlearn', 'pandas']\n",
    ")"
   ]
  },
  {
   "cell_type": "markdown",
   "metadata": {},
   "source": [
    "## Pipeline"
   ]
  },
  {
   "cell_type": "code",
   "execution_count": 7,
   "metadata": {},
   "outputs": [],
   "source": [
    "def pl(n_samples: int = 1000):\n",
    "    data = comp_data_load()\n",
    "    structure = comp_structure_learning(data.output)\n",
    "    parameter = comp_parameter_learning(structure.outputs['output_model'], structure.outputs['output_df'])\n",
    "    inference = comp_inference(parameter.output)\n",
    "    sample = comp_sampling(parameter.output, n_samples)\n",
    "\n",
    "Compiler().compile(pl, 'bn_pipeline.yaml')"
   ]
  }
 ],
 "metadata": {
  "kernelspec": {
   "display_name": "Python 3",
   "language": "python",
   "name": "python3"
  },
  "language_info": {
   "codemirror_mode": {
    "name": "ipython",
    "version": 3
   },
   "file_extension": ".py",
   "mimetype": "text/x-python",
   "name": "python",
   "nbconvert_exporter": "python",
   "pygments_lexer": "ipython3",
   "version": "3.12.3"
  }
 },
 "nbformat": 4,
 "nbformat_minor": 2
}
